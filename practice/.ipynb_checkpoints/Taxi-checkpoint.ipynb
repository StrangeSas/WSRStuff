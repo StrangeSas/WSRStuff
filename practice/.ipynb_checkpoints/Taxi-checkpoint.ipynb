{
 "cells": [
  {
   "cell_type": "code",
   "execution_count": 1,
   "id": "acf6677b-4674-4603-ab8b-7cf551d45b3f",
   "metadata": {
    "tags": []
   },
   "outputs": [],
   "source": [
    "import pandas as pd\n",
    "import yaml\n",
    "import json\n",
    "import sys\n",
    "import numpy as np\n",
    "from matplotlib import pyplot as plt\n",
    "import matplotlib.cm as cm\n",
    "import seaborn as sns\n",
    "import plotly.express as px\n",
    "from sklearn.linear_model import LinearRegression,SGDRegressor\n",
    "from sklearn.model_selection import train_test_split\n",
    "from sklearn.impute import SimpleImputer\n",
    "from sklearn.preprocessing import OneHotEncoder, StandardScaler, MinMaxScaler\n",
    "from sklearn.cluster import KMeans\n",
    "\n",
    "\n",
    "df = pd.read_csv(\"C:/Users/User/Documents/GitHub/WSRStuff/files to parse/likeWSRstuff/Taxi_Set.csv\")"
   ]
  },
  {
   "cell_type": "code",
   "execution_count": 2,
   "id": "433e3ae2-27e4-4f58-8e6a-7c10e986c21a",
   "metadata": {
    "tags": []
   },
   "outputs": [
    {
     "data": {
      "text/plain": [
       "'\\nОставляем:\\nhours\\ndistance\\nWait time\\nкол-во пасажиров(но тут идет зависимость - чем меньше их, тем больше платят)\\nsurge(т.к. у него прямая зависимость с miscellaneous_fees)\\nmiscellaneous_fees\\n\\nУбираем:\\ntip (нужно будет так-же эту колонну к фигам убирать из данных, т.к. она лишь создаёт проблемы при вычислениях)\\nsec(нафига)\\nmin(зачем)\\nkph(Слишком малое влияние на общие данные.)\\n\\nfare_w_flag(Эта штука имеет слишком большое кол-во корреляций и по сути\\nэто законченная стоимость с неизвестным мне множителем, из-за чего модель попросту\\nбудет смотреть на неё и слишком на неё полагаться.)\\n\\n'"
      ]
     },
     "execution_count": 2,
     "metadata": {},
     "output_type": "execute_result"
    }
   ],
   "source": [
    "\n",
    "#columns = [\"trip_duration_hr\", \"distance_traveled_Km\", \"fare_w_flag\",\"tip\", \"miscellaneous_fees\", \"surge_applied\", \"total_fare_new\"]\n",
    "\n",
    "#Те, что имеют большее влияние на конечный результат:\n",
    "\"\"\"\n",
    "Оставляем:\n",
    "hours\n",
    "distance\n",
    "Wait time\n",
    "кол-во пасажиров(но тут идет зависимость - чем меньше их, тем больше платят)\n",
    "surge(т.к. у него прямая зависимость с miscellaneous_fees)\n",
    "miscellaneous_fees\n",
    "\n",
    "Убираем:\n",
    "tip (нужно будет так-же эту колонну к фигам убирать из данных, т.к. она лишь создаёт проблемы при вычислениях)\n",
    "sec(нафига)\n",
    "min(зачем)\n",
    "kph(Слишком малое влияние на общие данные.)\n",
    "\n",
    "fare_w_flag(Эта штука имеет слишком большое кол-во корреляций и по сути\n",
    "это законченная стоимость с неизвестным мне множителем, из-за чего модель попросту\n",
    "будет смотреть на неё и слишком на неё полагаться.)\n",
    "\n",
    "\"\"\"\n"
   ]
  },
  {
   "cell_type": "code",
   "execution_count": 4,
   "id": "b33dd2de-8dd1-433a-bc1c-f3929a2573c4",
   "metadata": {
    "tags": []
   },
   "outputs": [
    {
     "data": {
      "text/html": [
       "<div>\n",
       "<style scoped>\n",
       "    .dataframe tbody tr th:only-of-type {\n",
       "        vertical-align: middle;\n",
       "    }\n",
       "\n",
       "    .dataframe tbody tr th {\n",
       "        vertical-align: top;\n",
       "    }\n",
       "\n",
       "    .dataframe thead th {\n",
       "        text-align: right;\n",
       "    }\n",
       "</style>\n",
       "<table border=\"1\" class=\"dataframe\">\n",
       "  <thead>\n",
       "    <tr style=\"text-align: right;\">\n",
       "      <th></th>\n",
       "      <th>trip_duration_hr</th>\n",
       "      <th>distance_traveled_Km</th>\n",
       "      <th>wait_time_cost</th>\n",
       "      <th>distance_cost</th>\n",
       "      <th>miscellaneous_fees</th>\n",
       "      <th>total_fare_new</th>\n",
       "      <th>num_of_passengers</th>\n",
       "      <th>surge_applied</th>\n",
       "    </tr>\n",
       "  </thead>\n",
       "  <tbody>\n",
       "    <tr>\n",
       "      <th>0</th>\n",
       "      <td>0.207833</td>\n",
       "      <td>2.75</td>\n",
       "      <td>4.97</td>\n",
       "      <td>4.27</td>\n",
       "      <td>6.30</td>\n",
       "      <td>18.24</td>\n",
       "      <td>1</td>\n",
       "      <td>NaN</td>\n",
       "    </tr>\n",
       "    <tr>\n",
       "      <th>1</th>\n",
       "      <td>0.329667</td>\n",
       "      <td>3.43</td>\n",
       "      <td>7.89</td>\n",
       "      <td>5.33</td>\n",
       "      <td>13.20</td>\n",
       "      <td>29.12</td>\n",
       "      <td>1</td>\n",
       "      <td>NaN</td>\n",
       "    </tr>\n",
       "    <tr>\n",
       "      <th>2</th>\n",
       "      <td>0.202833</td>\n",
       "      <td>3.12</td>\n",
       "      <td>4.85</td>\n",
       "      <td>4.85</td>\n",
       "      <td>26.63</td>\n",
       "      <td>39.03</td>\n",
       "      <td>1</td>\n",
       "      <td>NaN</td>\n",
       "    </tr>\n",
       "    <tr>\n",
       "      <th>3</th>\n",
       "      <td>0.186333</td>\n",
       "      <td>5.63</td>\n",
       "      <td>4.46</td>\n",
       "      <td>8.75</td>\n",
       "      <td>9.75</td>\n",
       "      <td>25.66</td>\n",
       "      <td>3</td>\n",
       "      <td>NaN</td>\n",
       "    </tr>\n",
       "    <tr>\n",
       "      <th>4</th>\n",
       "      <td>0.091300</td>\n",
       "      <td>2.09</td>\n",
       "      <td>2.19</td>\n",
       "      <td>3.25</td>\n",
       "      <td>13.20</td>\n",
       "      <td>21.34</td>\n",
       "      <td>1</td>\n",
       "      <td>NaN</td>\n",
       "    </tr>\n",
       "  </tbody>\n",
       "</table>\n",
       "</div>"
      ],
      "text/plain": [
       "   trip_duration_hr  distance_traveled_Km  wait_time_cost  distance_cost  \\\n",
       "0          0.207833                  2.75            4.97           4.27   \n",
       "1          0.329667                  3.43            7.89           5.33   \n",
       "2          0.202833                  3.12            4.85           4.85   \n",
       "3          0.186333                  5.63            4.46           8.75   \n",
       "4          0.091300                  2.09            2.19           3.25   \n",
       "\n",
       "   miscellaneous_fees  total_fare_new  num_of_passengers  surge_applied  \n",
       "0                6.30           18.24                  1            NaN  \n",
       "1               13.20           29.12                  1            NaN  \n",
       "2               26.63           39.03                  1            NaN  \n",
       "3                9.75           25.66                  3            NaN  \n",
       "4               13.20           21.34                  1            NaN  "
      ]
     },
     "execution_count": 4,
     "metadata": {},
     "output_type": "execute_result"
    }
   ],
   "source": [
    "#cleaning the data\n",
    "surge_code = {False:0, True:1}\n",
    "df[\"surge_applied\"] = df.surge_applied.map(surge_code)\n",
    "df.drop(columns = [\"trip_duration_sec\",\"trip_duration_min\",\"KPH\",\"fare_w_flag\"], axis=1,inplace=True)\n",
    "df[\"total_fare_new\"] = df[\"total_fare_new\"] - df[\"tip\"]\n",
    "df.drop(columns = \"tip\", axis = 1, inplace=True)\n",
    "\n",
    "df.head()"
   ]
  },
  {
   "cell_type": "code",
   "execution_count": null,
   "id": "6eff2e4d-df3b-4ae4-8d11-c44b1b2a881a",
   "metadata": {},
   "outputs": [],
   "source": [
    "\n",
    "train_cleaned_df, test_df = train_test_split(df, test_size=0.2, random_state=20)\n",
    "\n",
    "train_cleaned_df, val_df = train_test_split(df, test_size=0.25, random_state=20)\n"
   ]
  },
  {
   "cell_type": "code",
   "execution_count": null,
   "id": "c8f6e6d8-e984-4d96-866a-76d6d2b28ccc",
   "metadata": {
    "tags": []
   },
   "outputs": [],
   "source": [
    "scaler = StandardScaler()\n",
    "\n",
    "train_df_columns = train_df_columns.columns()\n",
    "train_cleaned_df[train_df_columns] = scaler.fit_transform(train_cleaned_df[train_df_columns])\n"
   ]
  },
  {
   "cell_type": "code",
   "execution_count": null,
   "id": "03ec07ad-c630-48c9-bb48-7238de0305cf",
   "metadata": {
    "tags": []
   },
   "outputs": [],
   "source": [
    "def optimise_k_means(data, max_k):\n",
    "    means=[]\n",
    "    inertias = []\n",
    "    for k in range(1,max_k):\n",
    "        kmeans = KMeans(n_clusters=k)\n",
    "        kmeans.fit(data)\n",
    "        \n",
    "        means.append(k)\n",
    "        inertias.append(kmeans.inertia_)\n",
    "    \n",
    "    fig = plt.subplots(figsize=(10,5))\n",
    "    plt.plot(means,inertias,'o-')\n",
    "    plt.xlabel(\"Number of Clusters\")\n",
    "    plt.ylabel(\"Inertia\")\n",
    "    plt.grid(True)\n",
    "    plt.show()\n",
    "    "
   ]
  },
  {
   "cell_type": "code",
   "execution_count": null,
   "id": "09fc185f-b281-4f34-8b86-6e44df8bf665",
   "metadata": {
    "tags": []
   },
   "outputs": [],
   "source": [
    "optimise_k_means(train_cleaned_df[train_df_columns],6)"
   ]
  },
  {
   "cell_type": "code",
   "execution_count": null,
   "id": "c34b2dea-ed62-4e40-a1ee-9f0f6c314c3f",
   "metadata": {
    "tags": []
   },
   "outputs": [],
   "source": [
    "kmeans = KMeans(n_clusters = 5)\n",
    "kmeans.fit(train_cleaned_df[train_df_columns])"
   ]
  },
  {
   "cell_type": "code",
   "execution_count": null,
   "id": "40ae78b0-2172-49d1-b1e2-52e354099210",
   "metadata": {
    "tags": []
   },
   "outputs": [],
   "source": [
    "train_cleaned_df[\"kmeans_5\"] = kmeans.labels_"
   ]
  },
  {
   "cell_type": "code",
   "execution_count": null,
   "id": "69dcd541-b0b1-47d8-9ab7-2ddc409fb16c",
   "metadata": {
    "tags": []
   },
   "outputs": [],
   "source": [
    "\n",
    "\n",
    "train_cleaned_df.head()"
   ]
  },
  {
   "cell_type": "code",
   "execution_count": null,
   "id": "f1ee4b6a-3a18-4b43-b8b3-e501e8e77cfc",
   "metadata": {
    "tags": []
   },
   "outputs": [],
   "source": []
  },
  {
   "cell_type": "code",
   "execution_count": null,
   "id": "b169d5ea-7493-469a-ac7a-88fb78c12043",
   "metadata": {
    "tags": []
   },
   "outputs": [],
   "source": [
    "px.scatter(train_cleaned_df, \"trip_duration_hr\", \"total_fare_new\", color = \"kmeans_5\")\n",
    "#columns = [\"trip_duration_hr\", \"distance_traveled_Km\", \"fare_w_flag\",\"tip\", \"miscellaneous_fees\", \"surge_applied\", \"total_fare_new\"]"
   ]
  },
  {
   "cell_type": "code",
   "execution_count": null,
   "id": "3292a543-5e1f-46b5-b18d-9b086a9f6686",
   "metadata": {
    "tags": []
   },
   "outputs": [],
   "source": [
    "px.scatter(train_cleaned_df, \"distance_traveled_Km\", \"total_fare_new\", color = \"kmeans_5\")\n"
   ]
  },
  {
   "cell_type": "code",
   "execution_count": null,
   "id": "cc528c8e-a0fd-4534-a35c-595efa163085",
   "metadata": {
    "tags": []
   },
   "outputs": [],
   "source": [
    "\n",
    "px.scatter(train_cleaned_df, \"miscellaneous_fees\", \"total_fare_new\", color = \"kmeans_5\")"
   ]
  },
  {
   "cell_type": "code",
   "execution_count": null,
   "id": "9debc53a-d0d0-401f-8964-197b493d3733",
   "metadata": {
    "tags": []
   },
   "outputs": [],
   "source": [
    "\n",
    "\n",
    "px.scatter(train_cleaned_df, \"surge_applied\", \"total_fare_new\", color = \"kmeans_5\")"
   ]
  },
  {
   "cell_type": "code",
   "execution_count": null,
   "id": "cacb1938-c5c2-434d-91f1-6866fe5e034d",
   "metadata": {
    "tags": []
   },
   "outputs": [],
   "source": [
    "px.scatter(train_cleaned_df, \"wait_time_cost\", \"total_fare_new\", color = \"kmeans_5\")\n"
   ]
  },
  {
   "cell_type": "code",
   "execution_count": null,
   "id": "1891cd8e-3133-44c4-91bc-6b8e552c596f",
   "metadata": {
    "tags": []
   },
   "outputs": [],
   "source": [
    "def estimate_charges(age,w,b):\n",
    "    return w * age + b\n",
    "\n",
    "def rmse(targets, predictions):\n",
    "    return np.sqrt(np.mean(np.square(targets - predictions)))\n",
    "\n",
    "def try_parameters(w, b):\n",
    "    ages = non_smoker_df.age\n",
    "    estimated_charges = estimate_charges(ages, w, b)\n",
    "    target_charges = non_smoker_df.charges\n",
    "    sns.lineplot(x = ages, y = estimated_charges, color = \"r\")\n",
    "    sns.scatterplot(x = non_smoker_df.age, y = target_charges, color = \"b\",alpha = 0.6)\n",
    "    loss = rmse(target_charges, estimated_charges)\n",
    "    print(\"RMSE loss: \", loss)"
   ]
  },
  {
   "cell_type": "code",
   "execution_count": null,
   "id": "06b1ec46-a93b-46ac-94fc-f8afc7f25a6f",
   "metadata": {
    "tags": []
   },
   "outputs": [],
   "source": [
    "\n",
    "    \n",
    "columns_for_model = train_df_columns.drop([\"total_fare_new\"])\n",
    "inputs, targets = train_cleaned_df[columns_for_model], train_cleaned_df[\"total_fare_new\"]\n",
    "\n",
    "\n",
    "model1 = SGDRegressor()\n",
    "model2 = LinearRegression()\n",
    "model1.fit(inputs, targets)\n",
    "model2.fit(inputs, targets)\n",
    "\n",
    "predictions1 = model1.predict(inputs)\n",
    "\n",
    "predictions2 = model2.predict(inputs)\n",
    "\n",
    "print(predictions1, rmse(targets, predictions1))\n",
    "\n",
    "print(predictions2, rmse(targets, predictions2))"
   ]
  },
  {
   "cell_type": "code",
   "execution_count": null,
   "id": "10652f3c-bb1f-475f-a1d7-262d6732d470",
   "metadata": {
    "tags": []
   },
   "outputs": [],
   "source": [
    "\n",
    "predictions_val = model1.predict(val_df)\n",
    "\n",
    "print(predictions_val, rmse(train_val_df[\"total_fare_new\"], predictions_val))"
   ]
  },
  {
   "cell_type": "code",
   "execution_count": null,
   "id": "e46e4a47-4a75-4ed9-b9cc-5c6a496dc1ae",
   "metadata": {},
   "outputs": [],
   "source": []
  }
 ],
 "metadata": {
  "kernelspec": {
   "display_name": "Python 3 (ipykernel)",
   "language": "python",
   "name": "python3"
  },
  "language_info": {
   "codemirror_mode": {
    "name": "ipython",
    "version": 3
   },
   "file_extension": ".py",
   "mimetype": "text/x-python",
   "name": "python",
   "nbconvert_exporter": "python",
   "pygments_lexer": "ipython3",
   "version": "3.11.5"
  }
 },
 "nbformat": 4,
 "nbformat_minor": 5
}
