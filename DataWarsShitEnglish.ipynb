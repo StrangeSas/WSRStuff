{
 "cells": [
  {
   "cell_type": "code",
   "execution_count": 1,
   "id": "99a2b653-a9a4-4837-8f27-cd20eb27aabc",
   "metadata": {
    "tags": []
   },
   "outputs": [],
   "source": [
    "#This is for DataWars saving"
   ]
  },
  {
   "cell_type": "code",
   "execution_count": null,
   "id": "74866f3e-5b3a-4fb2-84d5-8ddd92f621c4",
   "metadata": {},
   "outputs": [],
   "source": [
    "import pandas as pd\n",
    "df = pd.read_csv('words.csv', index_col='Word')\n",
    "df.head()\n",
    "df[\"Ratio\"] = [x/y for x,y  in zip(df[\"Value\"],df[\"Char Count\"])]\n",
    "df[\"Ratio\"] = pd.to_numeric(df.Ratio)\n",
    "\n",
    "df = df.reset_index(drop=True)\n",
    "cum = df.sort_values(df.Ratio, ascending = False, ignore_index = True)\n",
    "print(cum)"
   ]
  }
 ],
 "metadata": {
  "kernelspec": {
   "display_name": "Python 3 (ipykernel)",
   "language": "python",
   "name": "python3"
  },
  "language_info": {
   "codemirror_mode": {
    "name": "ipython",
    "version": 3
   },
   "file_extension": ".py",
   "mimetype": "text/x-python",
   "name": "python",
   "nbconvert_exporter": "python",
   "pygments_lexer": "ipython3",
   "version": "3.11.5"
  }
 },
 "nbformat": 4,
 "nbformat_minor": 5
}
