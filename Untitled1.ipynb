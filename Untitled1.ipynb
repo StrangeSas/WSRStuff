{
 "cells": [
  {
   "cell_type": "markdown",
   "id": "ac03c61a-a4ff-4fde-bc64-2fcfc1fee509",
   "metadata": {
    "tags": []
   },
   "source": [
    "# Meow of the roow\n",
    "Who is the boss of this gym?"
   ]
  },
  {
   "cell_type": "code",
   "execution_count": 3,
   "id": "4a2fe763-64cd-4223-83e1-7a02f2782ebc",
   "metadata": {
    "tags": []
   },
   "outputs": [
    {
     "name": "stdout",
     "output_type": "stream",
     "text": [
      "             A_id      Size    Weight  Crunchiness  Juiciness  Ripeness\n",
      "Sweetness                                                              \n",
      "-4.164118  1381.0  6.406367 -2.752347     0.415241   0.999640  3.995602\n",
      "-0.592951   634.0  5.866232  0.821114     0.768464   3.050095  0.684049\n",
      " 0.246081  3973.0  5.865861 -6.010559     4.507715  -1.041609  5.309622\n",
      "-3.991688  2002.0  5.403276 -4.026721     1.621552   2.086260  3.162070\n",
      "-5.052945  2875.0  5.225383 -0.747052    -0.372263   2.178658 -0.819290\n",
      "...           ...       ...       ...          ...        ...       ...\n",
      " 0.164711  1516.0 -6.690121  3.556307     0.143442   2.567518 -2.319071\n",
      "-0.443713  2676.0 -6.710169  1.035163    -1.155560   2.526025  3.678178\n",
      " 4.293285  2458.0 -6.713315 -0.179871    -3.404415   1.265507  0.372189\n",
      " 3.640811  2001.0 -6.905803 -0.599815    -0.807991   3.090987 -1.912564\n",
      " 1.673138  3559.0 -7.151703 -1.370717     2.702934  -0.136146  4.127709\n",
      "\n",
      "[4000 rows x 6 columns]\n"
     ]
    }
   ],
   "source": [
    "import pandas as pd\n",
    "import yaml\n",
    "import json\n",
    "import sys\n",
    "import numpy\n",
    "\n",
    "numpy.set_printoptions(threshold=4000)\n",
    "irisdf = pd.DataFrame(columns=pd.read_csv('files to parse/apple_quality.csv').columns)\n",
    "for irisd in pd.read_csv('files to parse/apple_quality.csv', chunksize=1000):\n",
    "    irisdf = pd.concat([irisdf, irisd])\n",
    "\n",
    "\n",
    "df = irisdf.drop([\"Acidity\", \"Quality\"], axis=1)\n",
    "testing = df.groupby([\"Sweetness\"]).mean().sort_values('Size', ascending=False)\n",
    "print(testing)\n",
    "irisdf.reset_index(drop=True, inplace=True)\n",
    "with open('Apples_Grouped_By_Sweetness.json', 'w') as file:\n",
    "    documents = json.dump(testing.to_dict(orient=\"records\"), file, indent=2)\n"
   ]
  },
  {
   "cell_type": "code",
   "execution_count": null,
   "id": "8cdb7b14-5a45-46c4-8fa7-d0548e059842",
   "metadata": {},
   "outputs": [],
   "source": []
  }
 ],
 "metadata": {
  "kernelspec": {
   "display_name": "Python 3 (ipykernel)",
   "language": "python",
   "name": "python3"
  },
  "language_info": {
   "codemirror_mode": {
    "name": "ipython",
    "version": 3
   },
   "file_extension": ".py",
   "mimetype": "text/x-python",
   "name": "python",
   "nbconvert_exporter": "python",
   "pygments_lexer": "ipython3",
   "version": "3.11.5"
  }
 },
 "nbformat": 4,
 "nbformat_minor": 5
}
