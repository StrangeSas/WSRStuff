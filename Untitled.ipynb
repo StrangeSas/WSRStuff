{
 "cells": [
  {
   "cell_type": "code",
   "execution_count": 2,
   "id": "5d50d997-82a8-4a66-8f5e-a3ecffdde063",
   "metadata": {
    "tags": []
   },
   "outputs": [
    {
     "name": "stdout",
     "output_type": "stream",
     "text": [
      "             A_id      Size    Weight  Crunchiness  Juiciness  Ripeness\n",
      "Sweetness                                                              \n",
      "-6.894485  2832.0 -1.520566 -0.146925     2.216431   0.129411  2.291800\n",
      "-6.507847  3789.0  3.213812 -2.390627     0.058833   0.662867  3.160365\n",
      "-6.359749  2219.0  2.828638 -1.154015    -0.112942   2.870290  2.804620\n",
      "-5.958315   976.0  2.886356 -2.892565    -1.051182   5.915579  2.007149\n",
      "-5.893007  1712.0 -2.295867  2.464033     0.230861  -0.921386  5.204456\n",
      "...           ...       ...       ...          ...        ...       ...\n",
      " 5.559624   543.0 -5.234191 -0.782204     2.249128   0.849810 -1.648863\n",
      " 5.612644  1212.0 -1.973277 -3.830499     2.101756   2.534707  0.223946\n",
      " 5.669087  2908.0 -2.060534 -4.255528     0.970850   0.330088  1.532845\n",
      " 5.862356  1919.0 -0.694597 -5.343076     1.162238   2.294458  1.640538\n",
      " 6.374916  2691.0 -4.122996 -4.098128     0.467545   2.835063 -0.336443\n",
      "\n",
      "[4000 rows x 6 columns]\n",
      "              A_id       Size     Weight  Sweetness  Crunchiness  Juiciness  \\\n",
      "count    10.000000  10.000000  10.000000  10.000000    10.000000  10.000000   \n",
      "mean   1918.600000  -2.382907  -3.639729   5.467054     0.577314   1.674590   \n",
      "std    1106.215189   1.181176   0.785728   0.435995     1.476779   1.030432   \n",
      "min       0.000000  -4.122996  -5.343076   5.019020    -1.807715  -0.116890   \n",
      "25%    1346.250000  -3.081183  -4.031221   5.083461    -0.642120   0.922328   \n",
      "50%    2111.000000  -2.062927  -3.402953   5.444649     1.066544   1.989268   \n",
      "75%    2790.750000  -1.990505  -3.231952   5.654976     1.715882   2.474645   \n",
      "max    3244.000000  -0.694597  -2.512336   6.374916     2.112991   2.835063   \n",
      "\n",
      "        Ripeness  \n",
      "count  10.000000  \n",
      "mean    0.445753  \n",
      "std     1.018650  \n",
      "min    -1.193378  \n",
      "25%    -0.288744  \n",
      "50%     0.276893  \n",
      "75%     1.414960  \n",
      "max     1.798553  \n",
      "Awesome apple\n",
      "Awesome apple\n"
     ]
    }
   ],
   "source": [
    "import pandas as pd\n",
    "import yaml\n",
    "import json\n",
    "import re\n",
    "\n",
    "irisdf = pd.read_csv('files to parse/apple_quality.csv')\n",
    "\n",
    "\n",
    "df = irisdf.drop([\"Acidity\", \"Quality\"], axis=1)\n",
    "testing = df.groupby([\"Sweetness\"]).mean()\n",
    "print(testing)\n",
    "irisdf.reset_index(drop=True, inplace=True)\n",
    "with open('Apples_Grouped_By_Sweetness.json', 'w') as file:\n",
    "    documents = json.dump(testing.to_dict(orient=\"records\"), file, indent=2)\n",
    "\n",
    "irisdf = irisdf.loc[(irisdf.Quality == \"good\") & (irisdf.Sweetness >= 5.0)]\n",
    "\n",
    "print(irisdf.describe())\n",
    "for index, row in irisdf.iterrows():\n",
    "    if row.Size >= -1.0:\n",
    "        print(\"Awesome apple\")\n",
    "\n",
    "irisdf[\"Total\"] = irisdf[\"Sweetness\"] + irisdf[\"Juiciness\"] + irisdf[\"Ripeness\"]\\\n",
    "                  + irisdf[\"Crunchiness\"]+ irisdf[\"Weight\"] + irisdf[\"Size\"]\n",
    "\n",
    "\n",
    "irisdf.reset_index(drop=True, inplace=True)\n",
    "with open('anaconda-project.json', 'w') as file:\n",
    "    documents = json.dump(irisdf.to_dict(orient=\"records\"), file, indent=2)\n",
    "\n",
    "# If you would need something to disassemble a text - you can use regex"
   ]
  },
  {
   "cell_type": "code",
   "execution_count": null,
   "id": "28630221-8fc4-441d-b5ba-075ec4cc11bd",
   "metadata": {},
   "outputs": [],
   "source": []
  }
 ],
 "metadata": {
  "kernelspec": {
   "display_name": "Python 3 (ipykernel)",
   "language": "python",
   "name": "python3"
  },
  "language_info": {
   "codemirror_mode": {
    "name": "ipython",
    "version": 3
   },
   "file_extension": ".py",
   "mimetype": "text/x-python",
   "name": "python",
   "nbconvert_exporter": "python",
   "pygments_lexer": "ipython3",
   "version": "3.11.5"
  }
 },
 "nbformat": 4,
 "nbformat_minor": 5
}
