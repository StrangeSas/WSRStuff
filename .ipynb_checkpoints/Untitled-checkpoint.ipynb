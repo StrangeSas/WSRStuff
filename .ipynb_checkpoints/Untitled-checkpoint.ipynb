{
 "cells": [
  {
   "cell_type": "code",
   "execution_count": null,
   "id": "5d50d997-82a8-4a66-8f5e-a3ecffdde063",
   "metadata": {
    "tags": []
   },
   "outputs": [],
   "source": [
    "import pandas as pd\n",
    "import yaml\n",
    "import json\n",
    "import sys\n",
    "import numpy as np\n",
    "from matplotlib import pyplot as plt\n",
    "import matplotlib.cm as cm\n",
    "import seaborn as sns\n",
    "\n",
    "#Geting chuncks of code\n",
    "np.set_printoptions(threshold=4000)\n",
    "irisdf = pd.DataFrame(columns=pd.read_csv('files to parse/apple_quality1.csv').columns)\n",
    "for irisd in pd.read_csv('files to parse/apple_quality1.csv', chunksize=1000):\n",
    "    irisdf = pd.concat([irisdf, irisd])\n",
    "\n",
    "#Making it to appear only good and converting it to normal values\n",
    "irisdfgood = irisdf.loc[(irisdf.Quality == \"good\")]\n",
    "\n",
    "irisdfgood.reset_index(drop=True, inplace=True)\n",
    "\n",
    "#irisdf_good_n_clean = irisdf.loc[irisdf[\"Acidity\"], [\"Acidity\"]] = acidity_in_list\n",
    "irisdf_clean = irisdf.drop([\"Acidity\",\"Quality\"], axis=1)\n",
    "\n",
    "#Taking columns out the file\n",
    "\n",
    "#А ведь я могу попробовать на графике запустить bad apple\n",
    "#Making graphic\n",
    "\n",
    "#Сладость почти равняется размеру(зависит)\n",
    "#Сладость от веса немного зависит\n",
    "#Чем больше хруст яблока, тем более оно сладкое, такая же штука с сочностью яблока и зрелостью\n",
    "\n",
    "\n",
    "#for number in irisdf_good_n_clean.Sweetness:\n",
    "#    y.append(float(number))\n",
    "#for column in columns:\n",
    "#    plt.legend(str(column))\n",
    "#for column in columns:\n",
    "#    if column != \"A_id\":\n",
    "#        for number in irisdf_good_n_clean[column]:\n",
    "#            x.append((float(number)*333.3))\n",
    "#    else:\n",
    "#        for number in irisdf_good_n_clean[column]:\n",
    "#            x.append(float(0))\n",
    "#    color_that_we_are_using = next(colors)\n",
    "#    sns.histplot(x,color=color_that_we_are_using, kde=False, bins=np.arange(xmin, xmax,width))\n",
    "#\n",
    "#    x.clear()\n",
    "#plt.legend()\n",
    "#plt.show()\n",
    "\n",
    "#Doing total of all numbers\n",
    "\n",
    "# If you would need something to disassemble a text - you can use regex"
   ]
  },
  {
   "cell_type": "code",
   "execution_count": null,
   "id": "5c323ef2-8eb8-4513-ab86-faca6078c23c",
   "metadata": {
    "tags": []
   },
   "outputs": [],
   "source": [
    "\n",
    "sweetness =list(irisdf_clean['Sweetness'])\n",
    "size = list(irisdf_clean['Size'])\n",
    "weight =list(irisdf_clean['Weight'])\n",
    "crunchiness =list(irisdf_clean['Crunchiness'])\n",
    "juiciness =list(irisdf_clean['Juiciness'])\n",
    "ripeness =list(irisdf_clean['Ripeness'])\n",
    "xmin = min(min(size),min(weight),min(sweetness),min(crunchiness),min(juiciness),min(ripeness))\n",
    "xmax = max(max(size),max(weight),max(sweetness),max(crunchiness),max(juiciness),max(ripeness))\n",
    "width = (xmax - xmin) / 40\n",
    "\n",
    "for i in ['Size','Weight','Crunchiness','Juiciness','Ripeness']:\n",
    "    \n",
    "    sns.histplot(sweetness, color='r', kde=False, bins=np.arange(xmin, xmax, width))\n",
    "    sns.histplot(irisdf_clean[i], color = 'g', kde = False, bins=np.arange(xmin, xmax, width))\n",
    "    plt.legend(['Sweetness', '{}'.format(i)])\n",
    "    plt.title('Overlaid histogram for {}'.format(i))\n",
    "    plt.show()"
   ]
  },
  {
   "cell_type": "code",
   "execution_count": 34,
   "id": "28630221-8fc4-441d-b5ba-075ec4cc11bd",
   "metadata": {},
   "outputs": [],
   "source": [
    "#for i,col in enumerate(['Size','Weight','Sweetness','Crunchiness','Juiciness','Ripeness']):\n",
    "#    plt.figure(i)\n",
    "#   sns.catplot(x=col, y='Sweetness', data=irisdf_clean, aspect=2,)"
   ]
  },
  {
   "cell_type": "code",
   "execution_count": null,
   "id": "906a721a-89d1-4247-8ffc-f73483e3f24b",
   "metadata": {
    "tags": []
   },
   "outputs": [],
   "source": [
    "irisdf_clean_cool = irisdf_clean.corr()\n",
    "irisdf_clean_cool.head()\n",
    "\n",
    "sns.heatmap(irisdf_clean_cool, annot = True, cmap='Blues')\n",
    "\n",
    "plt.show()"
   ]
  },
  {
   "cell_type": "code",
   "execution_count": null,
   "id": "3d9390c2-eb75-4354-ad96-cdcefc10d313",
   "metadata": {},
   "outputs": [],
   "source": []
  }
 ],
 "metadata": {
  "kernelspec": {
   "display_name": "Python 3 (ipykernel)",
   "language": "python",
   "name": "python3"
  },
  "language_info": {
   "codemirror_mode": {
    "name": "ipython",
    "version": 3
   },
   "file_extension": ".py",
   "mimetype": "text/x-python",
   "name": "python",
   "nbconvert_exporter": "python",
   "pygments_lexer": "ipython3",
   "version": "3.11.5"
  }
 },
 "nbformat": 4,
 "nbformat_minor": 5
}
